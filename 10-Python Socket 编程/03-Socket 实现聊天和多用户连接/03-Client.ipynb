{
 "cells": [
  {
   "cell_type": "code",
   "execution_count": 2,
   "metadata": {},
   "outputs": [],
   "source": [
    "import socket\n",
    "client = socket.socket(socket.AF_INET, socket.SOCK_STREAM)\n",
    "client.connect(('127.0.0.1', 6666))\n",
    "\n",
    "while True:\n",
    "    re_data = input('input message : ')\n",
    "    if re_data == 'end':\n",
    "        break\n",
    "    client.send(re_data.encode('utf8'))\n",
    "    data = client.recv(1024)\n",
    "    print(data)\n",
    "    \n",
    "client.close()"
   ]
  }
 ],
 "metadata": {
  "kernelspec": {
   "display_name": "Python 3.9.7 64-bit",
   "language": "python",
   "name": "python3"
  },
  "language_info": {
   "codemirror_mode": {
    "name": "ipython",
    "version": 3
   },
   "file_extension": ".py",
   "mimetype": "text/x-python",
   "name": "python",
   "nbconvert_exporter": "python",
   "pygments_lexer": "ipython3",
   "version": "3.9.7"
  },
  "orig_nbformat": 4,
  "vscode": {
   "interpreter": {
    "hash": "d44cc55657d798daf39fa7a9d516e6a567cb30c39d60bbb6731268ec9bd46351"
   }
  }
 },
 "nbformat": 4,
 "nbformat_minor": 2
}
