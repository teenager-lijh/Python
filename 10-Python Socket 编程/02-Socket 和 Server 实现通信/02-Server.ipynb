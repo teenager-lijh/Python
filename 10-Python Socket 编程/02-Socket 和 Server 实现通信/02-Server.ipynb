{
 "cells": [
  {
   "cell_type": "code",
   "execution_count": null,
   "metadata": {},
   "outputs": [],
   "source": [
    "import socket"
   ]
  },
  {
   "cell_type": "code",
   "execution_count": 25,
   "metadata": {},
   "outputs": [],
   "source": [
    "\"\"\"\n",
    "IPV4 UDP 协议\n",
    "\n",
    "下方的注释引用到这里的 IP_server:PORT_server\n",
    "IP_server = 本机IP :PORT_server = 6666\n",
    "代码中的 0.0.0.0 并不是本机 IP 这个并不是要填到 UDP 报文中的\n",
    "\"\"\"\n",
    "# 这个 socket 只是用来监听的\n",
    "server = socket.socket(socket.AF_INET, socket.SOCK_STREAM)\n",
    "server.bind(('0.0.0.0', 6666))\n",
    "server.listen()\n",
    "\n",
    "# 这里的 sock 才是用来通信的\n",
    "sock, addr = server.accept()\n",
    "print(sock)\n",
    "print(addr)\n",
    "\n",
    "\"\"\"\n",
    "获取从客户端发送的数据\n",
    "一次获取 1KB 的数据\n",
    "因为不知道客户端地 IP 和 PORT 是什么\n",
    "所以要返回一个新的 socket 对象\n",
    "从而建立服务器端 依旧是绑定的 IP_server:PORT_server 与 客户端 IP:PORT 的通信\n",
    "\"\"\"\n",
    "for i in range(100):\n",
    "    data = sock.recv(1024)\n",
    "    print(data.decode('utf8'))\n",
    "\n",
    "server.close()\n",
    "sock.close()"
   ]
  }
 ],
 "metadata": {
  "kernelspec": {
   "display_name": "Python 3.9.7 64-bit",
   "language": "python",
   "name": "python3"
  },
  "language_info": {
   "codemirror_mode": {
    "name": "ipython",
    "version": 3
   },
   "file_extension": ".py",
   "mimetype": "text/x-python",
   "name": "python",
   "nbconvert_exporter": "python",
   "pygments_lexer": "ipython3",
   "version": "3.9.7"
  },
  "orig_nbformat": 4,
  "vscode": {
   "interpreter": {
    "hash": "d44cc55657d798daf39fa7a9d516e6a567cb30c39d60bbb6731268ec9bd46351"
   }
  }
 },
 "nbformat": 4,
 "nbformat_minor": 2
}
