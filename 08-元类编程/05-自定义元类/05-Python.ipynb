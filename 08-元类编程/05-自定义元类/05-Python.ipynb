{
 "cells": [
  {
   "cell_type": "code",
   "execution_count": 12,
   "metadata": {},
   "outputs": [
    {
     "name": "stdout",
     "output_type": "stream",
     "text": [
      "<class '__main__.create_class.<locals>.User'>\n"
     ]
    }
   ],
   "source": [
    "\"\"\"\n",
    "元类编程\n",
    "\n",
    "类也是对象, type 是创建类的一个类\n",
    "\"\"\"\n",
    "\n",
    "def create_class(name):\n",
    "    if name == 'user':\n",
    "        class User:\n",
    "            def __str__(self):\n",
    "                return 'user'\n",
    "        return User\n",
    "    elif name == 'company':\n",
    "        class Company:\n",
    "            def __str__(self):\n",
    "                return 'company'\n",
    "            \n",
    "        return Company\n",
    "\n",
    "\"\"\"\n",
    "虽然这样能够动态地创建类\n",
    "但还是需要写 class 语句\n",
    "依然不够灵活\n",
    "\"\"\"\n",
    "obj_class = create_class('user')\n",
    "print(obj_class)"
   ]
  },
  {
   "cell_type": "code",
   "execution_count": 13,
   "metadata": {},
   "outputs": [
    {
     "name": "stdout",
     "output_type": "stream",
     "text": [
      "I am UserType\n",
      "I am base class\n",
      "<class '__main__.UserType'>\n",
      "UserType\n"
     ]
    }
   ],
   "source": [
    "\"\"\"\n",
    "使用 type 动态创建类\n",
    "\"\"\"\n",
    "\n",
    "class BaseClass:\n",
    "    def answer(self):\n",
    "        return 'I am base class'\n",
    "\n",
    "def say(self):\n",
    "    return 'I am UserType'\n",
    "\n",
    "# 参数的意义：\n",
    "# 1. 创建的类的名字\n",
    "# 2. 该类要继承的基类 ==> 如果只继承一个类一定要加一个逗号，否则就不是元组了\n",
    "# 3. 该类的属性\n",
    "UserType = type('UserType', (BaseClass,), {'name':'UserType', 'say': say})\n",
    "user = UserType()\n",
    "print(user.say())\n",
    "print(user.answer())\n",
    "print(type(user))\n",
    "print(UserType.name)"
   ]
  },
  {
   "cell_type": "code",
   "execution_count": 15,
   "metadata": {},
   "outputs": [],
   "source": [
    "\"\"\"\n",
    "元类 : 创建类的类叫 元类\n",
    "type -> class(类对象) -> 实例对象\n",
    "\"\"\"\n",
    "\n",
    "\n",
    "\"\"\"\n",
    "指明创建 User 的时候使用的是哪一个 元类\n",
    "元类可以控制 User 的创建过程\n",
    "若在 Python 中不写 metaclass\n",
    "那么，默认调用 type 来创建 User\n",
    "也就是：默认  属性的值为 type\n",
    "\n",
    "Python 中 类的实例化过程\n",
    "type 去创建类对象，实例\n",
    "\n",
    "Python 中 类的生成过程, \n",
    "会首先寻找 metaclass 类\n",
    "通过 metaclass 去创建 User 类\n",
    "    若属性中有定义 metaclass 那么用自己的属性中的 metaclass\n",
    "    否则去寻找基类中的 metaclass \n",
    "    最后会去模块中寻找 metaclass\n",
    "    如果都不行才会调用 type 来创建类对象\n",
    "type 去创建类对象，实例\n",
    "\n",
    "在实例化的过程中\n",
    "会先进入 metaclass 的 __new__ 方法中\n",
    "这样就能控制 类的生成过程\n",
    "\n",
    "__new__ 来控制实例对象的生成过程\n",
    "而 元类生成的 类 就相当于是 元类的实例对象\n",
    "\n",
    "此外 __init__ 用来完善实例对象\n",
    "\n",
    "\n",
    "总结：\n",
    "两者的 __new__ 最大的区别在于返回的是类对象还是实例对象\n",
    "一个是用来控制实例对象的生成过程（自己的 new 控制实例对象的生成过程），\n",
    "一个是用来控制类的生成过程（元类控制类的生成过程）\n",
    "\n",
    "自己的类中的 __new__ 方法是在生成 自己的类 之后，生成实例对象之前 被调用 返回的是自己的类的实例对象\n",
    "元类中的 __new__ 方法是在 元类生成之后 且 生成使用该元类的类之前 被调用，返回的是使用该元类的类对象\n",
    "\"\"\"\n",
    "# 一个类继承了 type 就是元类\n",
    "class MetaClass(type):\n",
    "    def __new__(cls, *args, **kwargs):\n",
    "        # 将生成对象的过程委托给\n",
    "        # *args ==> name, bases, attrs ==> 类名，基类，属性\n",
    "        return super().__new__(cls, *args, **kwargs)\n",
    "\n",
    "\n",
    "class User(metaclass=MetaClass):\n",
    "    pass"
   ]
  },
  {
   "cell_type": "code",
   "execution_count": 22,
   "metadata": {},
   "outputs": [
    {
     "ename": "TypeError",
     "evalue": "'tuple' object does not support item assignment",
     "output_type": "error",
     "traceback": [
      "\u001b[1;31m---------------------------------------------------------------------------\u001b[0m",
      "\u001b[1;31mTypeError\u001b[0m                                 Traceback (most recent call last)",
      "\u001b[1;32m~\\AppData\\Local\\Temp\\ipykernel_34308\\2991423640.py\u001b[0m in \u001b[0;36m<module>\u001b[1;34m\u001b[0m\n\u001b[0;32m     13\u001b[0m \u001b[1;33m\u001b[0m\u001b[0m\n\u001b[0;32m     14\u001b[0m \u001b[1;33m\u001b[0m\u001b[0m\n\u001b[1;32m---> 15\u001b[1;33m \u001b[1;32mclass\u001b[0m \u001b[0mUser\u001b[0m\u001b[1;33m(\u001b[0m\u001b[0mmetaclass\u001b[0m\u001b[1;33m=\u001b[0m\u001b[0mMetaClass\u001b[0m\u001b[1;33m)\u001b[0m\u001b[1;33m:\u001b[0m\u001b[1;33m\u001b[0m\u001b[1;33m\u001b[0m\u001b[0m\n\u001b[0m\u001b[0;32m     16\u001b[0m     \u001b[1;32mpass\u001b[0m\u001b[1;33m\u001b[0m\u001b[1;33m\u001b[0m\u001b[0m\n\u001b[0;32m     17\u001b[0m \u001b[1;33m\u001b[0m\u001b[0m\n",
      "\u001b[1;32m~\\AppData\\Local\\Temp\\ipykernel_34308\\2991423640.py\u001b[0m in \u001b[0;36m__new__\u001b[1;34m(cls, *args, **kwargs)\u001b[0m\n\u001b[0;32m      4\u001b[0m         \u001b[1;31m# 这里生成什么对象取决于 传给 args 的参数\u001b[0m\u001b[1;33m\u001b[0m\u001b[1;33m\u001b[0m\u001b[0m\n\u001b[0;32m      5\u001b[0m         \u001b[1;31m# 因为参数中是 User 所以生成的对象叫 User\u001b[0m\u001b[1;33m\u001b[0m\u001b[1;33m\u001b[0m\u001b[0m\n\u001b[1;32m----> 6\u001b[1;33m         \u001b[0margs\u001b[0m\u001b[1;33m[\u001b[0m\u001b[1;36m0\u001b[0m\u001b[1;33m]\u001b[0m \u001b[1;33m=\u001b[0m \u001b[1;34m'helloUser'\u001b[0m\u001b[1;33m\u001b[0m\u001b[1;33m\u001b[0m\u001b[0m\n\u001b[0m\u001b[0;32m      7\u001b[0m         \u001b[0mprint\u001b[0m\u001b[1;33m(\u001b[0m\u001b[0msuper\u001b[0m\u001b[1;33m(\u001b[0m\u001b[1;33m)\u001b[0m\u001b[1;33m.\u001b[0m\u001b[0m__new__\u001b[0m\u001b[1;33m(\u001b[0m\u001b[0mcls\u001b[0m\u001b[1;33m,\u001b[0m \u001b[1;33m*\u001b[0m\u001b[0margs\u001b[0m\u001b[1;33m,\u001b[0m \u001b[1;33m**\u001b[0m\u001b[0mkwargs\u001b[0m\u001b[1;33m)\u001b[0m\u001b[1;33m)\u001b[0m\u001b[1;33m\u001b[0m\u001b[1;33m\u001b[0m\u001b[0m\n\u001b[0;32m      8\u001b[0m         \u001b[0mprint\u001b[0m\u001b[1;33m(\u001b[0m\u001b[0misinstance\u001b[0m\u001b[1;33m(\u001b[0m\u001b[0msuper\u001b[0m\u001b[1;33m(\u001b[0m\u001b[1;33m)\u001b[0m\u001b[1;33m.\u001b[0m\u001b[0m__new__\u001b[0m\u001b[1;33m(\u001b[0m\u001b[0mcls\u001b[0m\u001b[1;33m,\u001b[0m \u001b[1;33m*\u001b[0m\u001b[0margs\u001b[0m\u001b[1;33m,\u001b[0m \u001b[1;33m**\u001b[0m\u001b[0mkwargs\u001b[0m\u001b[1;33m)\u001b[0m\u001b[1;33m,\u001b[0m \u001b[0mcls\u001b[0m\u001b[1;33m)\u001b[0m\u001b[1;33m)\u001b[0m\u001b[1;33m\u001b[0m\u001b[1;33m\u001b[0m\u001b[0m\n",
      "\u001b[1;31mTypeError\u001b[0m: 'tuple' object does not support item assignment"
     ]
    }
   ],
   "source": [
    "class MetaClass(type):\n",
    "    def __new__(cls, *args, **kwargs):\n",
    "        # 将生成对象的过程委托给\n",
    "        # 这里生成什么对象取决于 传给 args 的参数\n",
    "        # 因为参数中是 User 所以生成的对象叫 User\n",
    "        args[0] = 'helloUser'\n",
    "        print(super().__new__(cls, *args, **kwargs))\n",
    "        print(isinstance(super().__new__(cls, *args, **kwargs), cls))\n",
    "        print(id(super().__new__(cls, *args, **kwargs)) == id(cls))\n",
    "        print(cls)\n",
    "        \n",
    "        return super().__new__(cls, *args, **kwargs)\n",
    "\n",
    "\n",
    "class User(metaclass=MetaClass):\n",
    "    pass\n",
    "\n",
    "\n",
    "user = User()"
   ]
  },
  {
   "cell_type": "code",
   "execution_count": 19,
   "metadata": {},
   "outputs": [
    {
     "name": "stdout",
     "output_type": "stream",
     "text": [
      "new\n",
      "<class '__main__.User'> <class 'type'> <class 'object'> <__main__.User object at 0x0000026C67A2A7F0>\n",
      "False\n",
      "True\n",
      "init\n",
      "()\n"
     ]
    }
   ],
   "source": [
    "class Test:\n",
    "    pass\n",
    "\n",
    "\n",
    "class User:\n",
    "    def __new__(cls, *args, **kwargs):\n",
    "        print('new')\n",
    "        print(cls, type(cls), cls.__base__, super().__new__(cls))\n",
    "        print(cls is super().__new__(cls))\n",
    "        # 说明 父类的 __init__ 创建出了 cls 的实例对象\n",
    "        print(isinstance(super().__new__(cls), cls))\n",
    "\n",
    "        # 让父类的 __new__ 方法创建 cls 的实例化对象\n",
    "        return super().__new__(cls)\n",
    "\n",
    "    def __init__(self):\n",
    "        print('init')\n",
    "\n",
    "user = User()\n",
    "print(object.__bases__)"
   ]
  },
  {
   "cell_type": "code",
   "execution_count": null,
   "metadata": {},
   "outputs": [],
   "source": []
  }
 ],
 "metadata": {
  "kernelspec": {
   "display_name": "Python 3.9.7 64-bit",
   "language": "python",
   "name": "python3"
  },
  "language_info": {
   "codemirror_mode": {
    "name": "ipython",
    "version": 3
   },
   "file_extension": ".py",
   "mimetype": "text/x-python",
   "name": "python",
   "nbconvert_exporter": "python",
   "pygments_lexer": "ipython3",
   "version": "3.9.7"
  },
  "orig_nbformat": 4,
  "vscode": {
   "interpreter": {
    "hash": "d44cc55657d798daf39fa7a9d516e6a567cb30c39d60bbb6731268ec9bd46351"
   }
  }
 },
 "nbformat": 4,
 "nbformat_minor": 2
}
