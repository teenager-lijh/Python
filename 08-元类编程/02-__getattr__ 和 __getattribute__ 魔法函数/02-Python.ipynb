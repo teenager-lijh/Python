{
 "cells": [
  {
   "cell_type": "code",
   "execution_count": 10,
   "metadata": {},
   "outputs": [
    {
     "name": "stdout",
     "output_type": "stream",
     "text": [
      "enter __getattribute__ :  age\n",
      "None\n"
     ]
    }
   ],
   "source": [
    "\"\"\"\n",
    "魔法函数：\n",
    "__getattr__ : 在查找不到属性的时候调用\n",
    "__getattrbute__ : 不论是否能查找到属性，都会无条件进入该函数\n",
    "\n",
    "\n",
    "\"\"\"\n",
    "\n",
    "class User:\n",
    "    def __init__(self, name):\n",
    "        self.name = name\n",
    "        \n",
    "    def __getattr__(self, item):\n",
    "        \"\"\"\n",
    "        当找不到特定的属性的时候， \n",
    "        可以在这里添加自己的逻辑\n",
    "        \"\"\"\n",
    "        print(\"not found attr : \", item)\n",
    "        \n",
    "    def __getattribute__(self, item):\n",
    "        \"\"\"\n",
    "        无条件的进入该函数,\n",
    "        若进入了该函数，就不会再进入 __getattr__ 函数了\n",
    "        \n",
    "        在不重写 __getattribute__ 函数的情况下\n",
    "        实际上 __getattr__ 函数默认在 __getattribute__ 函数中被调用的\n",
    "        \"\"\"\n",
    "        print(\"enter __getattribute__ : \", item)\n",
    "        \n",
    "user = User('lijh')\n",
    "print(user.age)"
   ]
  },
  {
   "cell_type": "code",
   "execution_count": null,
   "metadata": {},
   "outputs": [],
   "source": []
  }
 ],
 "metadata": {
  "kernelspec": {
   "display_name": "Python 3.9.7 64-bit",
   "language": "python",
   "name": "python3"
  },
  "language_info": {
   "codemirror_mode": {
    "name": "ipython",
    "version": 3
   },
   "file_extension": ".py",
   "mimetype": "text/x-python",
   "name": "python",
   "nbconvert_exporter": "python",
   "pygments_lexer": "ipython3",
   "version": "3.9.7"
  },
  "orig_nbformat": 4,
  "vscode": {
   "interpreter": {
    "hash": "d44cc55657d798daf39fa7a9d516e6a567cb30c39d60bbb6731268ec9bd46351"
   }
  }
 },
 "nbformat": 4,
 "nbformat_minor": 2
}
