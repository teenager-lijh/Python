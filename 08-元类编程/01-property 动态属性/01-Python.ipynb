{
 "cells": [
  {
   "cell_type": "code",
   "execution_count": 7,
   "metadata": {},
   "outputs": [
    {
     "data": {
      "text/plain": [
       "(23, 23, 23, 666)"
      ]
     },
     "execution_count": 7,
     "metadata": {},
     "output_type": "execute_result"
    }
   ],
   "source": [
    "\"\"\"\n",
    "如果本来有一个 next_age 字段\n",
    "在所有的代码中都是以 点 next_age 的方式获取的\n",
    "\n",
    "若数据库的表中删除了 next_age 字段\n",
    "那么 ORM 类中的 next_age 字段也就没有了\n",
    "这时候就产生了问题，所有使用 点 next_age 的代码\n",
    "都会出现问题, 这会导致代码的改动量非常大\n",
    "\n",
    "解决方法：使用计算属性\n",
    "\"\"\"\n",
    "class User:\n",
    "    def __init__(self, name, age):\n",
    "        self.name = name\n",
    "        self.age = age\n",
    "        self._next_age = 0\n",
    "        # self.next_age = age+1\n",
    "       \n",
    "    @property \n",
    "    def next_age(self):\n",
    "        \"\"\"\n",
    "        这是动态属性的 get 方法\n",
    "        \n",
    "        这样就把调用函数的模式\n",
    "        改为了 取属性的模式\n",
    "        \"\"\"\n",
    "        return self.age+1\n",
    "    \n",
    "    @next_age.setter\n",
    "    def next_age(self, value):\n",
    "        \"\"\"\n",
    "        这是动态属性的 set 方法\n",
    "        \"\"\"\n",
    "        self._next_age = value\n",
    "    \n",
    "    def get_next_age(self):\n",
    "        return self.age+1\n",
    "    \n",
    "user = User('lijh', 22)\n",
    "user.next_age = 666\n",
    "user.get_next_age(), user.next_age, user.next_age, user._next_age"
   ]
  }
 ],
 "metadata": {
  "kernelspec": {
   "display_name": "Python 3.9.7 64-bit",
   "language": "python",
   "name": "python3"
  },
  "language_info": {
   "codemirror_mode": {
    "name": "ipython",
    "version": 3
   },
   "file_extension": ".py",
   "mimetype": "text/x-python",
   "name": "python",
   "nbconvert_exporter": "python",
   "pygments_lexer": "ipython3",
   "version": "3.9.7"
  },
  "orig_nbformat": 4,
  "vscode": {
   "interpreter": {
    "hash": "d44cc55657d798daf39fa7a9d516e6a567cb30c39d60bbb6731268ec9bd46351"
   }
  }
 },
 "nbformat": 4,
 "nbformat_minor": 2
}
