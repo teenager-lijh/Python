{
 "cells": [
  {
   "cell_type": "code",
   "execution_count": 11,
   "metadata": {},
   "outputs": [
    {
     "name": "stdout",
     "output_type": "stream",
     "text": [
      "new method continue\n",
      "<class '__main__.User'>\n",
      "init method continue\n",
      "<class '__main__.User'>\n"
     ]
    }
   ],
   "source": [
    "\"\"\"\n",
    "可以在 PyCharm 中打断点来验证\n",
    "\"\"\"\n",
    "\n",
    "class User:\n",
    "    def __new__(cls, *args, **kwargs):\n",
    "        \"\"\"\n",
    "        传入的是 cls ==> class\n",
    "        说明在调用 __new__ 方法的时候\n",
    "        就已经存在 User 类了, \n",
    "        \n",
    "        __new__ 方法的调用是在 __init__ 方法调用之前\n",
    "        \n",
    "        1. \n",
    "        __new__ 是用来控制对象的生成过程，在对象生成之前\n",
    "        __init__ 是用来完善对象的\n",
    "        \n",
    "        2. 如果 __new__ 方法不返回对象，那么不会调用 __init__ 函数 \n",
    "        \"\"\"\n",
    "        print(\"new method continue\")\n",
    "        \n",
    "        # 调用 object 对象的 __init__ 函数生成一个对象（白纸一般的对象）\n",
    "        # 然后再交给 User 的 __init__ 来完善这个白纸一般的对象\n",
    "        # __new__ 函数 必须返回一个实例化对象才会调用 User 的 __init__ 对象\n",
    "        # __new__ 函数返回的一定是一个实例对象，所以 父类的 __new__ 返回的也是实例对象\n",
    "        obj = super().__new__(cls)\n",
    "        print(type(obj))\n",
    "        return obj\n",
    "        # return super().__new__(cls)\n",
    "    \n",
    "    def __init__(self):\n",
    "        print(\"init method continue\")\n",
    "        print(type(self))\n",
    "        \n",
    "        \n",
    "\"\"\"\n",
    "User() 在实例化的时候，传入的参数\n",
    "必须和 __init__ 函数的参数列表保持一致\n",
    "尽管 传入的参数会先进入 __new__ 的参数列表中，\n",
    "但是，若不与 __init__ 的参数列表保持一致，就会报错\n",
    "\"\"\"\n",
    "user = User()"
   ]
  },
  {
   "cell_type": "code",
   "execution_count": null,
   "metadata": {},
   "outputs": [],
   "source": []
  }
 ],
 "metadata": {
  "kernelspec": {
   "display_name": "Python 3.9.7 64-bit",
   "language": "python",
   "name": "python3"
  },
  "language_info": {
   "codemirror_mode": {
    "name": "ipython",
    "version": 3
   },
   "file_extension": ".py",
   "mimetype": "text/x-python",
   "name": "python",
   "nbconvert_exporter": "python",
   "pygments_lexer": "ipython3",
   "version": "3.9.7"
  },
  "orig_nbformat": 4,
  "vscode": {
   "interpreter": {
    "hash": "d44cc55657d798daf39fa7a9d516e6a567cb30c39d60bbb6731268ec9bd46351"
   }
  }
 },
 "nbformat": 4,
 "nbformat_minor": 2
}
