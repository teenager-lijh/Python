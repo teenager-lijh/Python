{
 "cells": [
  {
   "cell_type": "code",
   "execution_count": 7,
   "metadata": {},
   "outputs": [],
   "source": [
    "\"\"\"\n",
    "在 Java 中实现多态，需要有一个共同的父类，\n",
    "每个子类都继承同一个父类，从而在定义变量的时候\n",
    "定义成为父类的变量类型，再用这个变量指向子类\n",
    "最终实现多态的效果\n",
    "\n",
    "在 Python 中不需要让子类继承共同的父类\n",
    "只需要让每一个类都实现同样的方法，就可以实现多态了\n",
    "Python 中的变量是动态变量，天生支持多态的特性\n",
    "\"\"\"\n",
    "\n",
    "\n",
    "class Cat:\n",
    "    def say(self):\n",
    "        print(\"I am a cat\")\n",
    "        \n",
    "\n",
    "class Dog:\n",
    "    def say(self):\n",
    "        print(\"I am a dog\")\n",
    "        \n",
    "        \n",
    "class Duck:\n",
    "    def say(self):\n",
    "        print(\"I am a duck\")\n",
    "        \n",
    "a = ['lijh1', 'lijh2']\n",
    "name_tuple = ['lijh3', 'lijh4']\n",
    "\n",
    "name_set = set()\n",
    "name_set.add('lijh5')\n",
    "name_set.add('lijh6')"
   ]
  },
  {
   "cell_type": "code",
   "execution_count": 8,
   "metadata": {},
   "outputs": [
    {
     "data": {
      "text/plain": [
       "['lijh1', 'lijh2', 'lijh3', 'lijh4', 'lijh5', 'lijh6']"
      ]
     },
     "execution_count": 8,
     "metadata": {},
     "output_type": "execute_result"
    }
   ],
   "source": [
    "\"\"\"\n",
    "Python 中很多情况只需要传入一个 泛化的类型即可\n",
    "在这里的 extend 方法只需要传入一个 可迭代 类型\n",
    "就可以把可迭代对象的所有内容添加到 列表a 中\n",
    "甚至可以传入一个 生成器\n",
    "\n",
    "实现 __iter__ 或者 __getitem__ 都是可以的\n",
    "如果使用 for 循环遍历只实现了 __getitem__ 函数的对象\n",
    "那么只有当 __getitem__ 抛出异常的时候 for 循环才会结束\n",
    "\"\"\"\n",
    "a.extend(name_tuple)  # 扩展列表 a\n",
    "a.extend(name_set)  # 扩展列表 a\n",
    "a"
   ]
  }
 ],
 "metadata": {
  "kernelspec": {
   "display_name": "Python 3.9.7 ('base')",
   "language": "python",
   "name": "python3"
  },
  "language_info": {
   "codemirror_mode": {
    "name": "ipython",
    "version": 3
   },
   "file_extension": ".py",
   "mimetype": "text/x-python",
   "name": "python",
   "nbconvert_exporter": "python",
   "pygments_lexer": "ipython3",
   "version": "3.9.7"
  },
  "orig_nbformat": 4,
  "vscode": {
   "interpreter": {
    "hash": "5ec60190fd82d19059a2c75283b4d0c60a6036d5032fb7c4db6e5c318b4fdfbb"
   }
  }
 },
 "nbformat": 4,
 "nbformat_minor": 2
}
