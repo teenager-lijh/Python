{
 "cells": [
  {
   "cell_type": "code",
   "execution_count": 3,
   "metadata": {},
   "outputs": [
    {
     "name": "stdout",
     "output_type": "stream",
     "text": [
      "code start\n",
      "key error\n",
      "finally\n"
     ]
    }
   ],
   "source": [
    "\"\"\"\n",
    "Python 中的 with 语句：上下文管理器\n",
    "try except finally else\n",
    "try : 检测可能会出现异常的代码块\n",
    "except : 捕获异常\n",
    "finally : 不论有没有发生异常都会运行\n",
    "else : 在发生异常后，若没有被捕获到，那么运行 else 下的代码\n",
    "\n",
    "finally 的用法的作用：\n",
    "    如，打开一个文件，是有可能发生异常的\n",
    "    那么，不论是否有发生异常，都应该关闭该文件\n",
    "    则，关闭该文件的代码就卸载 finally 的代码块中\n",
    "\"\"\"\n",
    "try:\n",
    "    print(\"code start\")\n",
    "    raise IndexError\n",
    "except IndexError as e:\n",
    "    print(\"index error\")\n",
    "else:\n",
    "    print(\"other error\")\n",
    "finally:\n",
    "    print(\"finally\")"
   ]
  },
  {
   "cell_type": "code",
   "execution_count": 9,
   "metadata": {},
   "outputs": [
    {
     "name": "stdout",
     "output_type": "stream",
     "text": [
      "code start\n",
      "index error\n",
      "finally\n"
     ]
    },
    {
     "data": {
      "text/plain": [
       "2"
      ]
     },
     "execution_count": 9,
     "metadata": {},
     "output_type": "execute_result"
    }
   ],
   "source": [
    "\"\"\"\n",
    "若在 try except 代码块中加上 return 语句\n",
    "执行效果：\n",
    "\n",
    "一旦抛出异常 raise IndexError 后\n",
    "当前代码块，在抛出异常语句下边的代码都不会执行了\n",
    "\n",
    "若没有 finally 代码块则运行处理异常的代码块并执行这里边的 return 语句\n",
    "\n",
    "若有 finally 代码块,那么处理异常的代码块的 return 语句依然不会执行\n",
    "最终执行 finally 代码块中的 return 语句\n",
    "\n",
    "实际的工作原理：\n",
    "但实际上，并不是之前的执行流中的 return 语句没有执行\n",
    "而是有一个 栈 ==> 则效果上就是以最后执行的那个 return 语句为准了\n",
    "return value ==> 就是把 value 压入了栈中\n",
    "\n",
    "验证：\n",
    "若把 finally 中的 return 语句注释掉，\n",
    "则 函数的返回值就是 2 \n",
    "\"\"\"\n",
    "\n",
    "def test():\n",
    "    try:\n",
    "        print(\"code start\")\n",
    "        raise IndexError\n",
    "        return 1\n",
    "    except IndexError as e:\n",
    "        print(\"index error\")\n",
    "        return 2\n",
    "    else:\n",
    "        print(\"other error\")\n",
    "        return 3\n",
    "    finally:\n",
    "        print(\"finally\") \n",
    "        # return 4\n",
    "test()"
   ]
  },
  {
   "cell_type": "code",
   "execution_count": 11,
   "metadata": {},
   "outputs": [
    {
     "name": "stdout",
     "output_type": "stream",
     "text": [
      "enter\n",
      "do something\n",
      "exit\n"
     ]
    }
   ],
   "source": [
    "\"\"\"\n",
    "上下文管理器协议：\n",
    "\n",
    "Python 中的 with 语句，为简化 try finally 而诞生\n",
    "Python 中的 with 语句，就是指 上下文管理器\n",
    "\n",
    "涉及到了两个魔法函数：\n",
    "__enter__ 和 __exit__\n",
    "\"\"\"\n",
    "class Sample:\n",
    "    def __enter__(self):\n",
    "        # 获取资源\n",
    "        print(\"enter\")\n",
    "        return self\n",
    "    \n",
    "    def __exit__(self, exc_type, exc_val, exc_tb):\n",
    "        # 释放资源\n",
    "        print(\"exit\")\n",
    "        \n",
    "    def do_something(self):\n",
    "        print(\"do something\") \n",
    "        \n",
    "        \n",
    "\"\"\"\n",
    "是先执行了 Sample.__init__ 后才会执行 __enter__ 的\n",
    "否则, self 实例对象 由 谁生成/初始化\n",
    "\"\"\"\n",
    "with Sample() as sample:\n",
    "    sample.do_something()"
   ]
  },
  {
   "cell_type": "code",
   "execution_count": null,
   "metadata": {},
   "outputs": [],
   "source": []
  }
 ],
 "metadata": {
  "kernelspec": {
   "display_name": "Python 3.9.7 64-bit",
   "language": "python",
   "name": "python3"
  },
  "language_info": {
   "codemirror_mode": {
    "name": "ipython",
    "version": 3
   },
   "file_extension": ".py",
   "mimetype": "text/x-python",
   "name": "python",
   "nbconvert_exporter": "python",
   "pygments_lexer": "ipython3",
   "version": "3.9.7"
  },
  "orig_nbformat": 4,
  "vscode": {
   "interpreter": {
    "hash": "d44cc55657d798daf39fa7a9d516e6a567cb30c39d60bbb6731268ec9bd46351"
   }
  }
 },
 "nbformat": 4,
 "nbformat_minor": 2
}
