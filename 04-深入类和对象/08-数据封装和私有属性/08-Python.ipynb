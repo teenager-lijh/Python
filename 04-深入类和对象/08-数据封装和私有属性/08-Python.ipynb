{
 "cells": [
  {
   "cell_type": "code",
   "execution_count": 1,
   "metadata": {},
   "outputs": [],
   "source": [
    "\"\"\"\n",
    "数据封装和私有属性\n",
    "\"\"\"\n",
    "\n",
    "class User:\n",
    "    def __init__(self, birthday):\n",
    "        \"\"\"\n",
    "        双下划线开头表示私有属性\n",
    "        \"\"\"\n",
    "        self.__birthday = birthday\n",
    "        \n",
    "    def get_birthday(self):\n",
    "        return self.birthday"
   ]
  },
  {
   "cell_type": "code",
   "execution_count": 8,
   "metadata": {},
   "outputs": [
    {
     "data": {
      "text/plain": [
       "({'_birthday': '2022-07-08'}, '2022-07-08')"
      ]
     },
     "execution_count": 8,
     "metadata": {},
     "output_type": "execute_result"
    }
   ],
   "source": [
    "user = User(\"2022-07-08\")\n",
    "\"\"\"\n",
    "Python 只是把 __var 转化成了 _var\n",
    "从双下划线转化成了 单下划线开头\n",
    "Python 并没有把它完全屏蔽\n",
    "只是在名字上有所改动\n",
    "\n",
    "课程中说的是这样的转换：\n",
    "__className_varName\n",
    "\"\"\"\n",
    "user.__dict__, user._birthday"
   ]
  },
  {
   "cell_type": "code",
   "execution_count": null,
   "metadata": {},
   "outputs": [],
   "source": []
  }
 ],
 "metadata": {
  "kernelspec": {
   "display_name": "Python 3.9.7 ('base')",
   "language": "python",
   "name": "python3"
  },
  "language_info": {
   "codemirror_mode": {
    "name": "ipython",
    "version": 3
   },
   "file_extension": ".py",
   "mimetype": "text/x-python",
   "name": "python",
   "nbconvert_exporter": "python",
   "pygments_lexer": "ipython3",
   "version": "3.9.7"
  },
  "orig_nbformat": 4,
  "vscode": {
   "interpreter": {
    "hash": "5ec60190fd82d19059a2c75283b4d0c60a6036d5032fb7c4db6e5c318b4fdfbb"
   }
  }
 },
 "nbformat": 4,
 "nbformat_minor": 2
}
