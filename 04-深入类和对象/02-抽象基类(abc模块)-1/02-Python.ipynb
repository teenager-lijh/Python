{
 "cells": [
  {
   "cell_type": "code",
   "execution_count": 1,
   "metadata": {},
   "outputs": [
    {
     "data": {
      "text/plain": [
       "'\\nPython 中的抽象基类是不能实例化的\\n所有继承抽象基类的类都必须实现该抽象基类\\n所有的方法\\n\\nQ:既然 Python 中实现魔法函数就拥有了某种特性\\n为什么又要多出来一个抽象基类的概念呢\\n应用场景：\\n如何判断一个对象有没有计算长度的方法呢？\\n如何判断一个对象是否实现了某个魔法函数呢\\n可以使用 hasattr 来判断一个对象是否有某个属性\\n但是，通常更习惯使用 isinstance 来判断一个对象是否是某种类型\\n这时候如果没有抽象基类的话，那就不方便使用 isinstance 来判断类型了\\n1. 判断某个对象的类型\\n2. 实现一个抽象积累，强制子类必须实现某些方法\\n\\n在 Java 中实现某些接口才能使得这个类的实例拥有某些特性\\n在 Python 中则是实现某些魔法函数就能使得这个类的实例拥有某些特性\\n'"
      ]
     },
     "execution_count": 1,
     "metadata": {},
     "output_type": "execute_result"
    }
   ],
   "source": [
    "\"\"\"\n",
    "Python 中的抽象基类是不能实例化的\n",
    "所有继承抽象基类的类都必须实现该抽象基类\n",
    "所有的方法\n",
    "\n",
    "Q:既然 Python 中实现魔法函数就拥有了某种特性\n",
    "为什么又要多出来一个抽象基类的概念呢\n",
    "应用场景：\n",
    "如何判断一个对象有没有计算长度的方法呢？\n",
    "如何判断一个对象是否实现了某个魔法函数呢\n",
    "可以使用 hasattr 来判断一个对象是否有某个属性\n",
    "但是，通常更习惯使用 isinstance 来判断一个对象是否是某种类型\n",
    "这时候如果没有抽象基类的话，那就不方便使用 isinstance 来判断类型了\n",
    "1. 判断某个对象的类型\n",
    "2. 实现一个抽象积累，强制子类必须实现某些方法\n",
    "\n",
    "在 Java 中实现某些接口才能使得这个类的实例拥有某些特性\n",
    "在 Python 中则是实现某些魔法函数就能使得这个类的实例拥有某些特性\n",
    "\"\"\""
   ]
  },
  {
   "cell_type": "code",
   "execution_count": 3,
   "metadata": {},
   "outputs": [],
   "source": [
    "from collections.abc import Sized\n",
    "# 当实现了 __len__ 方法，那么该对象就可以判断为 Sized 类型"
   ]
  },
  {
   "cell_type": "code",
   "execution_count": 4,
   "metadata": {},
   "outputs": [],
   "source": [
    "class Company:\n",
    "    def __len__(self):\n",
    "        return 666"
   ]
  },
  {
   "cell_type": "code",
   "execution_count": 5,
   "metadata": {},
   "outputs": [
    {
     "data": {
      "text/plain": [
       "True"
      ]
     },
     "execution_count": 5,
     "metadata": {},
     "output_type": "execute_result"
    }
   ],
   "source": [
    "\"\"\"\n",
    "Company 并没有继承 Sized \n",
    "可是 竟然能判断出 Company 是 Sized 类型\n",
    "\n",
    "能够做到这一点是因为实现了 __subclasshook__ 魔法函数\n",
    "可以找到 collections.abc.Sized 的代码来一探究竟\n",
    "\n",
    "isinstance 是 Python 的内部函数，不仅仅只是简单的判断\n",
    "它会做很多的尝试，考虑到了继承链，以及 __subclasshook__ 魔法函数的使用\n",
    "\n",
    "collections.abc 中之所以要使用抽象基类的方式来写\n",
    "是希望使用代码的方式来实现一种文档，加深对接口的理解\n",
    "\"\"\"\n",
    "com = Company()\n",
    "isinstance(com, Sized)"
   ]
  }
 ],
 "metadata": {
  "kernelspec": {
   "display_name": "Python 3.9.7 ('base')",
   "language": "python",
   "name": "python3"
  },
  "language_info": {
   "codemirror_mode": {
    "name": "ipython",
    "version": 3
   },
   "file_extension": ".py",
   "mimetype": "text/x-python",
   "name": "python",
   "nbconvert_exporter": "python",
   "pygments_lexer": "ipython3",
   "version": "3.9.7"
  },
  "orig_nbformat": 4,
  "vscode": {
   "interpreter": {
    "hash": "5ec60190fd82d19059a2c75283b4d0c60a6036d5032fb7c4db6e5c318b4fdfbb"
   }
  }
 },
 "nbformat": 4,
 "nbformat_minor": 2
}
