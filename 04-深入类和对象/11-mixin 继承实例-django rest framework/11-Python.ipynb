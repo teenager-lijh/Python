{
 "cells": [
  {
   "cell_type": "code",
   "execution_count": 1,
   "metadata": {},
   "outputs": [
    {
     "data": {
      "text/plain": [
       "'\\n在实际编码的过程中不推荐使用 多继承\\n在 Python 中推荐使用 mixin 的继承模式\\n\\n使用 django rest framework 框架对 mixin 做介绍\\n\\n在 mixin 模式: 组合模式\\n    1. 功能单一\\n    2. 不和基类关联 不耦合 可以和任意基类组合\\n    3. 不建议使用 super 的调用方法\\n    4. 只有继承一个真正意义上的类\\n    5. 最下层的子类 继承一个真类，继承多个 mixin 从而组合出一个强大的类\\n    6. 基类可以不和 mixin 类关联就能初始化成功\\n    7. mixin 类尽量以 Mixin 为类名的结尾\\n    ---------\\n    8. 只包含一个函数\\n    9. 需要多个功能则写多个 mixin 类\\n    10. 最终的类继承多个 mixin 类\\n'"
      ]
     },
     "execution_count": 1,
     "metadata": {},
     "output_type": "execute_result"
    }
   ],
   "source": [
    "\"\"\"\n",
    "在实际编码的过程中不推荐使用 多继承\n",
    "在 Python 中推荐使用 mixin 的继承模式\n",
    "\n",
    "使用 django rest framework 框架对 mixin 做介绍\n",
    "\n",
    "在 mixin 模式: 组合模式\n",
    "    1. 功能单一\n",
    "    2. 不和基类关联 不耦合 可以和任意基类组合\n",
    "    3. 不建议使用 super 的调用方法\n",
    "    4. 只有继承一个真正意义上的类\n",
    "    5. 最下层的子类 继承一个真类，继承多个 mixin 从而组合出一个强大的类\n",
    "    6. 基类可以不和 mixin 类关联就能初始化成功\n",
    "    7. mixin 类尽量以 Mixin 为类名的结尾\n",
    "    ---------\n",
    "    8. 只包含一个函数\n",
    "    9. 需要多个功能则写多个 mixin 类\n",
    "    10. 最终的类继承多个 mixin 类\n",
    "\"\"\""
   ]
  },
  {
   "cell_type": "code",
   "execution_count": null,
   "metadata": {},
   "outputs": [],
   "source": []
  }
 ],
 "metadata": {
  "kernelspec": {
   "display_name": "Python 3.9.7 64-bit",
   "language": "python",
   "name": "python3"
  },
  "language_info": {
   "codemirror_mode": {
    "name": "ipython",
    "version": 3
   },
   "file_extension": ".py",
   "mimetype": "text/x-python",
   "name": "python",
   "nbconvert_exporter": "python",
   "pygments_lexer": "ipython3",
   "version": "3.9.7"
  },
  "orig_nbformat": 4,
  "vscode": {
   "interpreter": {
    "hash": "d44cc55657d798daf39fa7a9d516e6a567cb30c39d60bbb6731268ec9bd46351"
   }
  }
 },
 "nbformat": 4,
 "nbformat_minor": 2
}
