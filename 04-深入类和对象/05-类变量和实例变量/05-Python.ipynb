{
 "cells": [
  {
   "cell_type": "code",
   "execution_count": 26,
   "metadata": {},
   "outputs": [
    {
     "data": {
      "text/plain": [
       "'\\n类变量和实例变量\\n'"
      ]
     },
     "execution_count": 26,
     "metadata": {},
     "output_type": "execute_result"
    }
   ],
   "source": [
    "\"\"\"\n",
    "类变量和实例变量\n",
    "\"\"\""
   ]
  },
  {
   "cell_type": "code",
   "execution_count": 27,
   "metadata": {},
   "outputs": [
    {
     "name": "stdout",
     "output_type": "stream",
     "text": [
      "2 3 1 1\n",
      "True\n"
     ]
    }
   ],
   "source": [
    "class A:\n",
    "    aa = 1\n",
    "    def __init__(self, x, y):\n",
    "        \"\"\"\n",
    "        self 是这个类的实例\n",
    "        所以 self.x 和 self.y\n",
    "        是属于 A 的实例对象的\n",
    "        注意: 类对象 A, 在全局只有一个, \n",
    "        所以 类变量 在全局也是只有一份\n",
    "        \"\"\"\n",
    "        self.x = x\n",
    "        self.y = y\n",
    "    \n",
    "\"\"\"\n",
    "对于实例对象 a 来说\n",
    "如果在实例对象 a 的 __dict__ 中找不到属性\n",
    "那么就会向上查找，首先查找生成 a 的 A 中的属性\n",
    "\n",
    "并且 a.aa 和 A.aa 指向的是同一个对象\n",
    "\"\"\"\n",
    "a = A(2, 3)\n",
    "print(a.x, a.y, a.aa, A.aa)\n",
    "print(a.aa is A.aa)"
   ]
  },
  {
   "cell_type": "code",
   "execution_count": 28,
   "metadata": {},
   "outputs": [
    {
     "name": "stdout",
     "output_type": "stream",
     "text": [
      "2 3 666 666\n",
      "True\n",
      "{'__module__': '__main__', 'aa': 666, '__init__': <function A.__init__ at 0x000001BA5ADB1CA0>, '__dict__': <attribute '__dict__' of 'A' objects>, '__weakref__': <attribute '__weakref__' of 'A' objects>, '__doc__': None}\n",
      "{'x': 2, 'y': 3}\n"
     ]
    }
   ],
   "source": [
    "A.aa = 666\n",
    "print(a.x, a.y, a.aa, A.aa)\n",
    "print(a.aa is A.aa)\n",
    "print(A.__dict__)\n",
    "print(a.__dict__)"
   ]
  },
  {
   "cell_type": "code",
   "execution_count": 30,
   "metadata": {},
   "outputs": [
    {
     "name": "stdout",
     "output_type": "stream",
     "text": [
      "2 3 999 666\n",
      "False\n",
      "{'__module__': '__main__', 'aa': 666, '__init__': <function A.__init__ at 0x000001BA5ADB1CA0>, '__dict__': <attribute '__dict__' of 'A' objects>, '__weakref__': <attribute '__weakref__' of 'A' objects>, '__doc__': None}\n",
      "{'x': 2, 'y': 3, 'aa': 999}\n"
     ]
    }
   ],
   "source": [
    "\"\"\"\n",
    "对比上边\n",
    "通过这种方式，\n",
    "会在实例对象 a 中添加一个新的成员变量 aa\n",
    "a.aa 和 A.aa 也不是同一个对象了\n",
    "\n",
    "通过 A 的 __dict__ 可以发现\n",
    "A 中定义的函数都属于 A 的属性, 并不是属于 A 的实例对象的属性\n",
    "==> 当通过 A 的实例对象调用函数的时候，也是向上查找，找到 A 中的函数\n",
    "再把实例对象通过 self 传进去，然后也是通过 object 点的方式访问到了对象的属性\n",
    "\n",
    "__new__ 来创建类对象\n",
    "__init__ 相当于创建类对象的 __new__ 的功能\n",
    "只不过 __init__ 是用来创建实例对象使用的\n",
    "\"\"\"\n",
    "a.aa = 999\n",
    "print(a.x, a.y, a.aa, A.aa)\n",
    "print(a.aa is A.aa)\n",
    "print(A.__dict__)\n",
    "print(a.__dict__)  # 可以发现在 a.__dict__ 中多出了一个属性"
   ]
  },
  {
   "cell_type": "code",
   "execution_count": 32,
   "metadata": {},
   "outputs": [
    {
     "data": {
      "text/plain": [
       "True"
      ]
     },
     "execution_count": 32,
     "metadata": {},
     "output_type": "execute_result"
    }
   ],
   "source": [
    "a2 = A(1, 2)\n",
    "a3 = A(3, 4)\n",
    "a2.aa is a3.aa  # 再次验证全局只有一份 A.aa"
   ]
  }
 ],
 "metadata": {
  "kernelspec": {
   "display_name": "Python 3.9.7 ('base')",
   "language": "python",
   "name": "python3"
  },
  "language_info": {
   "codemirror_mode": {
    "name": "ipython",
    "version": 3
   },
   "file_extension": ".py",
   "mimetype": "text/x-python",
   "name": "python",
   "nbconvert_exporter": "python",
   "pygments_lexer": "ipython3",
   "version": "3.9.7"
  },
  "orig_nbformat": 4,
  "vscode": {
   "interpreter": {
    "hash": "5ec60190fd82d19059a2c75283b4d0c60a6036d5032fb7c4db6e5c318b4fdfbb"
   }
  }
 },
 "nbformat": 4,
 "nbformat_minor": 2
}
