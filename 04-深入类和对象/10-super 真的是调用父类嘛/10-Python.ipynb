{
 "cells": [
  {
   "cell_type": "code",
   "execution_count": 7,
   "metadata": {},
   "outputs": [
    {
     "name": "stdout",
     "output_type": "stream",
     "text": [
      "B\n"
     ]
    },
    {
     "data": {
      "text/plain": [
       "<__main__.B at 0x1aa77929d30>"
      ]
     },
     "execution_count": 7,
     "metadata": {},
     "output_type": "execute_result"
    }
   ],
   "source": [
    "\"\"\"\n",
    "super() 函数的使用方法\n",
    "没有通过 super() 函数，是不会调用父类的构造函数的\n",
    "通过 super() 函数可以调用父类的一切内容\n",
    "\"\"\"\n",
    "class A:\n",
    "    def __init__(self):\n",
    "        print(\"A\")\n",
    "        \n",
    "class B(A):\n",
    "    def __init__(self):\n",
    "        print(\"B\")\n",
    "        \n",
    "B()"
   ]
  },
  {
   "cell_type": "code",
   "execution_count": 8,
   "metadata": {},
   "outputs": [
    {
     "name": "stdout",
     "output_type": "stream",
     "text": [
      "A\n",
      "B\n"
     ]
    },
    {
     "data": {
      "text/plain": [
       "<__main__.B at 0x1aa77937dc0>"
      ]
     },
     "execution_count": 8,
     "metadata": {},
     "output_type": "execute_result"
    }
   ],
   "source": [
    "\"\"\"\n",
    "super() 函数的使用方法\n",
    "在 Python2 中 super 函数的使用方法\n",
    "\"\"\"\n",
    "class A:\n",
    "    def __init__(self):\n",
    "        print(\"A\")\n",
    "        \n",
    "class B(A):\n",
    "    def __init__(self):\n",
    "        super(B, self).__init__()\n",
    "        print(\"B\")\n",
    "        \n",
    "B()"
   ]
  },
  {
   "cell_type": "code",
   "execution_count": 10,
   "metadata": {},
   "outputs": [
    {
     "name": "stdout",
     "output_type": "stream",
     "text": [
      "A\n",
      "B\n"
     ]
    },
    {
     "data": {
      "text/plain": [
       "<__main__.B at 0x1aa78593d00>"
      ]
     },
     "execution_count": 10,
     "metadata": {},
     "output_type": "execute_result"
    }
   ],
   "source": [
    "\"\"\"\n",
    "super() 函数的使用方法\n",
    "在 Python3 中 super 函数的使用方法\n",
    "在 Python3 中对 super 函数做了简化\n",
    "\"\"\"\n",
    "class A:\n",
    "    def __init__(self):\n",
    "        print(\"A\")\n",
    "        \n",
    "class B(A):\n",
    "    def __init__(self):\n",
    "        super().__init__()\n",
    "        print(\"B\")\n",
    "        \n",
    "B()"
   ]
  },
  {
   "cell_type": "code",
   "execution_count": 13,
   "metadata": {},
   "outputs": [
    {
     "name": "stdout",
     "output_type": "stream",
     "text": [
      "D\n",
      "B\n",
      "C\n",
      "A\n"
     ]
    },
    {
     "data": {
      "text/plain": [
       "(<__main__.D at 0x1aa785b6160>,\n",
       " (__main__.D, __main__.B, __main__.C, __main__.A, object))"
      ]
     },
     "execution_count": 13,
     "metadata": {},
     "output_type": "execute_result"
    }
   ],
   "source": [
    "\"\"\"\n",
    "两个问题：\n",
    "1. 既然重写了 B 的构造函数，为什么还要去调用 super\n",
    "    在某些情况下是需要调用父类的构造函数的，好处是可以重用父类的代码\n",
    "2. super 的执行顺序是怎么样的\n",
    "    说 super 是调用父类的方法，这样并不准确\n",
    "    这和前边说到的 MRO 查找算法相关\n",
    "\"\"\"\n",
    "\n",
    "class A:\n",
    "    def __init__(self):\n",
    "        print(\"A\")\n",
    "        \n",
    "\n",
    "class B(A):\n",
    "    def __init__(self):\n",
    "        print(\"B\")\n",
    "        super(B, self).__init__()\n",
    "        \n",
    "\n",
    "class C(A):\n",
    "    def __init__(self):\n",
    "        print(\"C\")\n",
    "        super().__init__()\n",
    "        \n",
    "\n",
    "class D(B, C):\n",
    "    def __init__(self):\n",
    "        print(\"D\")\n",
    "        super(D, self).__init__()\n",
    "        \n",
    "\"\"\"\n",
    "问题出现在，B 调用 super() 后打印的是 C 而不是 A\n",
    "所以：super() 函数调用的不是父类的方法而是 MRO 查找顺序的下一个类的方法\n",
    "打印出的 DBCA 和 MRO 的顺序是一致的\n",
    "\"\"\"\n",
    "D(), D.__mro__"
   ]
  }
 ],
 "metadata": {
  "kernelspec": {
   "display_name": "Python 3.9.7 ('base')",
   "language": "python",
   "name": "python3"
  },
  "language_info": {
   "codemirror_mode": {
    "name": "ipython",
    "version": 3
   },
   "file_extension": ".py",
   "mimetype": "text/x-python",
   "name": "python",
   "nbconvert_exporter": "python",
   "pygments_lexer": "ipython3",
   "version": "3.9.7"
  },
  "orig_nbformat": 4,
  "vscode": {
   "interpreter": {
    "hash": "5ec60190fd82d19059a2c75283b4d0c60a6036d5032fb7c4db6e5c318b4fdfbb"
   }
  }
 },
 "nbformat": 4,
 "nbformat_minor": 2
}
