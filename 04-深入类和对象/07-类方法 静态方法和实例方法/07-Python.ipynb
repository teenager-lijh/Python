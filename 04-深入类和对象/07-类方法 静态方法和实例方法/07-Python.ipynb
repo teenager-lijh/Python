{
 "cells": [
  {
   "cell_type": "code",
   "execution_count": 11,
   "metadata": {},
   "outputs": [],
   "source": [
    "\"\"\"\n",
    "1. 类方法 ==> 因为类模板本身也是一个对象\n",
    "2. 静态方法 ==> 只是作用域的问题\n",
    "3. 实例方法 ==> 给类的实例化对象使用的方法\n",
    "\"\"\"\n",
    "\n",
    "class Date:\n",
    "    def __init__(self, year, month, day):\n",
    "        self.year = year\n",
    "        self.month = month\n",
    "        self.day = day\n",
    "        \n",
    "    def __str__(self):\n",
    "        return '{year}/{month}/{day}'.format(year=self.year, month=self.month, day=self.day)"
   ]
  },
  {
   "cell_type": "code",
   "execution_count": 12,
   "metadata": {},
   "outputs": [
    {
     "name": "stdout",
     "output_type": "stream",
     "text": [
      "2022/3/11\n"
     ]
    }
   ],
   "source": [
    "\"\"\"\n",
    "实例方法：\n",
    "\n",
    "Python 会自动把实例 date 传给 self 参数\n",
    "date = Date(2022, 3, 10) \n",
    "就相当于： date = Date(date, 2022, 3, 10) \n",
    "\n",
    "这时候遇到了问题，转换成为 int 的操作都需要在外边来做\n",
    "也就是说，每实例化一个这样的对象，就要有一段转化的代码\n",
    "\"\"\"\n",
    "\n",
    "date_str = '2022-03-11'\n",
    "year, month, day = (date_str.split('-'))\n",
    "\n",
    "date = Date(int(year), int(month), int(day))\n",
    "print(date)"
   ]
  },
  {
   "cell_type": "code",
   "execution_count": 14,
   "metadata": {},
   "outputs": [
    {
     "name": "stdout",
     "output_type": "stream",
     "text": [
      "2022/03/11\n"
     ]
    }
   ],
   "source": [
    "\"\"\"\n",
    "静态方法：\n",
    "\n",
    "静态方法的使用和普通函数没有任何区别\n",
    "但是，使用 Date 里边定义的静态方法 static_method \n",
    "必须以 Date.static_method 的方式来使用，\n",
    "在调用上和普通方法的区别仅在于静态方法多了一层命名空间\n",
    "\n",
    "应用场景：使用静态方法来完成额外的处理内容\n",
    "\"\"\"\n",
    "\n",
    "class Date:\n",
    "    def __init__(self, year, month, day):\n",
    "        self.year = year\n",
    "        self.month = month\n",
    "        self.day = day\n",
    "        \n",
    "    @staticmethod\n",
    "    def parse_from_string(date_str):\n",
    "        return date_str.split('-')\n",
    "        \n",
    "    def __str__(self):\n",
    "        return '{year}/{month}/{day}'.format(year=self.year, month=self.month, day=self.day)\n",
    "    \n",
    "year, month, day = Date.parse_from_string(date_str)\n",
    "date = Date(year, month, day)\n",
    "print(date)"
   ]
  },
  {
   "cell_type": "code",
   "execution_count": 16,
   "metadata": {},
   "outputs": [
    {
     "name": "stdout",
     "output_type": "stream",
     "text": [
      "2022/07/08\n"
     ]
    }
   ],
   "source": [
    "\"\"\"\n",
    "类方法：\n",
    "\n",
    "因为静态方法只能硬编码，这样就带来了不好的地方\n",
    "所以就产生了类方法\n",
    "\"\"\"\n",
    "\n",
    "class Date:\n",
    "    def __init__(self, year, month, day):\n",
    "        self.year = year\n",
    "        self.month = month\n",
    "        self.day = day\n",
    "        \n",
    "    @staticmethod\n",
    "    def parse_from_string(date_str):\n",
    "        return date_str.split('-')\n",
    "    \n",
    "    @classmethod\n",
    "    def from_string(cls, date_str):\n",
    "        \"\"\"\n",
    "        cls 是类 Date 本身\n",
    "        \"\"\"\n",
    "        year, month, day = Date.parse_from_string(date_str)\n",
    "        return cls(year, month, day)\n",
    "        \n",
    "    \n",
    "    def __str__(self):\n",
    "        return '{year}/{month}/{day}'.format(year=self.year, month=self.month, day=self.day)\n",
    "    \n",
    "print(Date.from_string(\"2022-07-08\"))"
   ]
  },
  {
   "cell_type": "code",
   "execution_count": null,
   "metadata": {},
   "outputs": [],
   "source": []
  }
 ],
 "metadata": {
  "kernelspec": {
   "display_name": "Python 3.9.7 ('base')",
   "language": "python",
   "name": "python3"
  },
  "language_info": {
   "codemirror_mode": {
    "name": "ipython",
    "version": 3
   },
   "file_extension": ".py",
   "mimetype": "text/x-python",
   "name": "python",
   "nbconvert_exporter": "python",
   "pygments_lexer": "ipython3",
   "version": "3.9.7"
  },
  "orig_nbformat": 4,
  "vscode": {
   "interpreter": {
    "hash": "5ec60190fd82d19059a2c75283b4d0c60a6036d5032fb7c4db6e5c318b4fdfbb"
   }
  }
 },
 "nbformat": 4,
 "nbformat_minor": 2
}
