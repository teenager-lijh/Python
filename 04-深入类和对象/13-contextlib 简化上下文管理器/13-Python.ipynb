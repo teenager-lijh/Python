{
 "cells": [
  {
   "cell_type": "code",
   "execution_count": 2,
   "metadata": {},
   "outputs": [
    {
     "name": "stdout",
     "output_type": "stream",
     "text": [
      "file open\n",
      "file processing\n",
      "file end\n"
     ]
    }
   ],
   "source": [
    "\"\"\"\n",
    "通过 contextlib 来简化上下文管理器\n",
    "\"\"\"\n",
    "\n",
    "import contextlib\n",
    "\n",
    "\"\"\"\n",
    "contextlib.contextmanager 装饰器可以把函数变成上下文管理器\n",
    "但是装饰的函数必须是一个 生成器\n",
    "\n",
    "yield 前边的代码属于 __enter__\n",
    "\n",
    "yield 后边的代码属于 __exit__\n",
    "\"\"\"\n",
    "@contextlib.contextmanager\n",
    "def file_open(file_name):\n",
    "    print(\"file open\")\n",
    "    yield {}\n",
    "    print(\"file end\")\n",
    "    \n",
    "    \n",
    "with file_open(\"hello.txt\") as f_open:\n",
    "    print(\"file processing\")\n",
    "    "
   ]
  }
 ],
 "metadata": {
  "kernelspec": {
   "display_name": "Python 3.9.7 64-bit",
   "language": "python",
   "name": "python3"
  },
  "language_info": {
   "codemirror_mode": {
    "name": "ipython",
    "version": 3
   },
   "file_extension": ".py",
   "mimetype": "text/x-python",
   "name": "python",
   "nbconvert_exporter": "python",
   "pygments_lexer": "ipython3",
   "version": "3.9.7"
  },
  "orig_nbformat": 4,
  "vscode": {
   "interpreter": {
    "hash": "d44cc55657d798daf39fa7a9d516e6a567cb30c39d60bbb6731268ec9bd46351"
   }
  }
 },
 "nbformat": 4,
 "nbformat_minor": 2
}
