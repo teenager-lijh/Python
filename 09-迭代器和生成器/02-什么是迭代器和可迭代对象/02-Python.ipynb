{
 "cells": [
  {
   "cell_type": "code",
   "execution_count": 12,
   "metadata": {},
   "outputs": [],
   "source": [
    "from collections.abc import Iterable, Iterator"
   ]
  },
  {
   "cell_type": "code",
   "execution_count": 13,
   "metadata": {},
   "outputs": [
    {
     "data": {
      "text/plain": [
       "True"
      ]
     },
     "execution_count": 13,
     "metadata": {},
     "output_type": "execute_result"
    }
   ],
   "source": [
    "a = []\n",
    "iterator = iter(a)\n",
    "isinstance(iterator, Iterator)"
   ]
  },
  {
   "cell_type": "code",
   "execution_count": 14,
   "metadata": {},
   "outputs": [
    {
     "data": {
      "text/plain": [
       "'\\n在使用 for 循环遍历一个对象 obj 的时候\\n解释器会尝试调用 iter(obj) \\n而 iter 函数比较智能，会尝试多种方式来完成遍历\\n\\n__getitem__ (从 0 开始遍历) 和 __iter__ 两个函数\\n\\n在迭代器类中需要实现 __next__ 函数\\nnext() 内置函数接收迭代器对象 ==> 从而不停地产生下一个值\\n当不能够继续调用 next 函数产生下一个值的时候，\\n会抛出一个异常 StopIteration\\n'"
      ]
     },
     "execution_count": 14,
     "metadata": {},
     "output_type": "execute_result"
    }
   ],
   "source": [
    "\"\"\"\n",
    "在使用 for 循环遍历一个对象 obj 的时候\n",
    "解释器会尝试调用 iter(obj) \n",
    "而 iter 函数比较智能，会尝试多种方式来完成遍历\n",
    "\n",
    "__getitem__ (从 0 开始遍历) 和 __iter__ 两个函数\n",
    "\n",
    "在迭代器类中需要实现 __next__ 函数\n",
    "next() 内置函数接收迭代器对象 ==> 从而不停地产生下一个值\n",
    "当不能够继续调用 next 函数产生下一个值的时候，\n",
    "会抛出一个异常 StopIteration\n",
    "\"\"\""
   ]
  },
  {
   "cell_type": "code",
   "execution_count": 15,
   "metadata": {},
   "outputs": [],
   "source": [
    "class Company:\n",
    "    def __init__(self, employees):\n",
    "        self.employees = employees\n",
    "        \n",
    "        \n",
    "    def __iter__(self):\n",
    "        return MyIterator(self.employees)\n",
    "    \n",
    "\"\"\"\n",
    "可以不继承 Iterator 也可以继承 Iterator, 影响不大\n",
    "因为 Python 是基于协议编程的\n",
    "\n",
    "事实上可以在可迭代对象中实现 __next__ 方法，\n",
    "但是设计模式并不希望这样做, 这违反了设计模式\n",
    "\"\"\"\n",
    "class MyIterator(Iterator):\n",
    "    def __init__(self, employees):\n",
    "        self.employees = employees\n",
    "        self.index = 0\n",
    "    \n",
    "    def __next__(self):\n",
    "        \"\"\"\n",
    "        在这里真正地返回迭代的值\n",
    "        \"\"\"\n",
    "        print(self.index)\n",
    "        try:\n",
    "            word = self.employees[self.index]\n",
    "        except IndexError:\n",
    "            raise StopIteration\n",
    "        self.index += 1\n",
    "        return word  "
   ]
  },
  {
   "cell_type": "code",
   "execution_count": 16,
   "metadata": {},
   "outputs": [],
   "source": [
    "company = Company(['lijh', 'lanmei', 'lalala'])"
   ]
  },
  {
   "cell_type": "code",
   "execution_count": 17,
   "metadata": {},
   "outputs": [
    {
     "name": "stdout",
     "output_type": "stream",
     "text": [
      "0\n",
      "lijh\n",
      "1\n",
      "lanmei\n",
      "2\n",
      "lalala\n",
      "3\n"
     ]
    }
   ],
   "source": [
    "for item in company:\n",
    "    print(item)"
   ]
  },
  {
   "cell_type": "code",
   "execution_count": null,
   "metadata": {},
   "outputs": [],
   "source": []
  }
 ],
 "metadata": {
  "kernelspec": {
   "display_name": "Python 3.9.7 64-bit",
   "language": "python",
   "name": "python3"
  },
  "language_info": {
   "codemirror_mode": {
    "name": "ipython",
    "version": 3
   },
   "file_extension": ".py",
   "mimetype": "text/x-python",
   "name": "python",
   "nbconvert_exporter": "python",
   "pygments_lexer": "ipython3",
   "version": "3.9.7"
  },
  "orig_nbformat": 4,
  "vscode": {
   "interpreter": {
    "hash": "d44cc55657d798daf39fa7a9d516e6a567cb30c39d60bbb6731268ec9bd46351"
   }
  }
 },
 "nbformat": 4,
 "nbformat_minor": 2
}
