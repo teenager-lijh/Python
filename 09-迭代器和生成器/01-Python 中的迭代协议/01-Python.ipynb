{
 "cells": [
  {
   "cell_type": "code",
   "execution_count": 1,
   "metadata": {},
   "outputs": [
    {
     "data": {
      "text/plain": [
       "'\\n迭代协议 iterable \\n迭代器是什么？\\n迭代器是访问集合内元素的一种方式，一般用来遍历数据\\n迭代器和以下标访问方式不一样,迭代器是不能返回的，\\n迭代器提供了一种惰性访问方式\\n\\n列表 ==> __getitem__ 是下标访问的原理\\n实现迭代器 ==> __iter__\\n\\n可迭代类型 和 迭代器是不一样的\\n'"
      ]
     },
     "execution_count": 1,
     "metadata": {},
     "output_type": "execute_result"
    }
   ],
   "source": [
    "\"\"\"\n",
    "迭代协议 iterable \n",
    "迭代器是什么？\n",
    "迭代器是访问集合内元素的一种方式，一般用来遍历数据\n",
    "迭代器和以下标访问方式不一样,迭代器是不能返回的，\n",
    "迭代器提供了一种惰性访问方式\n",
    "\n",
    "列表 ==> __getitem__ 是下标访问的原理\n",
    "实现迭代器 ==> __iter__\n",
    "\n",
    "可迭代类型 和 迭代器 是不一样的\n",
    "\"\"\""
   ]
  },
  {
   "cell_type": "code",
   "execution_count": 1,
   "metadata": {},
   "outputs": [],
   "source": [
    "from collections.abc import Iterable, Iterator"
   ]
  },
  {
   "cell_type": "code",
   "execution_count": 2,
   "metadata": {},
   "outputs": [
    {
     "data": {
      "text/plain": [
       "(False, True)"
      ]
     },
     "execution_count": 2,
     "metadata": {},
     "output_type": "execute_result"
    }
   ],
   "source": [
    "a = []  # 列表不是迭代器 而是 可迭代类型\n",
    "isinstance(a, Iterator), isinstance(a, Iterable)"
   ]
  }
 ],
 "metadata": {
  "kernelspec": {
   "display_name": "Python 3.9.7 64-bit",
   "language": "python",
   "name": "python3"
  },
  "language_info": {
   "codemirror_mode": {
    "name": "ipython",
    "version": 3
   },
   "file_extension": ".py",
   "mimetype": "text/x-python",
   "name": "python",
   "nbconvert_exporter": "python",
   "pygments_lexer": "ipython3",
   "version": "3.9.7"
  },
  "orig_nbformat": 4,
  "vscode": {
   "interpreter": {
    "hash": "d44cc55657d798daf39fa7a9d516e6a567cb30c39d60bbb6731268ec9bd46351"
   }
  }
 },
 "nbformat": 4,
 "nbformat_minor": 2
}
