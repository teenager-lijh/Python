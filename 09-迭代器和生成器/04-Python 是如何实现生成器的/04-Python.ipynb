{
 "cells": [
  {
   "cell_type": "code",
   "execution_count": 21,
   "metadata": {},
   "outputs": [
    {
     "name": "stdout",
     "output_type": "stream",
     "text": [
      "bar\n",
      "foo\n"
     ]
    }
   ],
   "source": [
    "\"\"\"\n",
    "生成器的原理\n",
    "\n",
    "Python 中函数的工作原理\n",
    "\n",
    "python 解释器会使用一个叫做 PyEval_EvalFramEx() 去执行 foo 函数\n",
    "PyEval_EvalFramEx ==> 一个 C 语言的函数\n",
    "首先会去创建一个栈帧, 从而 python 代码运行在栈帧的上下文, 接着会把 python 代码编译为字节码对象\n",
    "当 foo 调用子函数 bar 又会创建一个栈帧，然后把控制权交给刚创建的栈帧对象\n",
    "关键：所有栈帧都是分配在堆内存上（堆内存不是放就会一致存在）\n",
    "栈帧可以独立于调用者存在\n",
    "\"\"\"\n",
    "import dis\n",
    "import inspect\n",
    "\n",
    "frame = None\n",
    "\n",
    "def foo():\n",
    "    bar()\n",
    "    \n",
    "def bar():\n",
    "    global frame\n",
    "    frame = inspect.currentframe()\n",
    "\n",
    "foo()\n",
    "# print(dis.dis(foo))\n",
    "print(frame.f_code.co_name)\n",
    "print(frame.f_back.f_code.co_name)  # 调用 bar 的栈帧"
   ]
  },
  {
   "cell_type": "code",
   "execution_count": 22,
   "metadata": {},
   "outputs": [
    {
     "name": "stdout",
     "output_type": "stream",
     "text": [
      "  5           0 LOAD_CONST               1 ('lijh')\n",
      "              2 STORE_FAST               0 (name)\n",
      "\n",
      "  6           4 LOAD_CONST               2 (1)\n",
      "              6 YIELD_VALUE\n",
      "              8 POP_TOP\n",
      "\n",
      "  7          10 LOAD_FAST                0 (name)\n",
      "             12 YIELD_VALUE\n",
      "             14 POP_TOP\n",
      "\n",
      "  8          16 LOAD_CONST               3 (3)\n",
      "             18 RETURN_VALUE\n"
     ]
    }
   ],
   "source": [
    "def generation_function():\n",
    "    \"\"\"\n",
    "    生成器函数是可以 return 一个 value 的\n",
    "    \"\"\"\n",
    "    name = 'lijh'\n",
    "    yield 1\n",
    "    yield name\n",
    "    return 3\n",
    "    \n",
    "# 查看生成器的代码\n",
    "dis.dis(generation_function)"
   ]
  },
  {
   "cell_type": "code",
   "execution_count": 23,
   "metadata": {},
   "outputs": [
    {
     "name": "stdout",
     "output_type": "stream",
     "text": [
      "  5           0 LOAD_CONST               1 ('lijh')\n",
      "              2 STORE_FAST               0 (name)\n",
      "\n",
      "  6           4 LOAD_CONST               2 (1)\n",
      "              6 YIELD_VALUE\n",
      "              8 POP_TOP\n",
      "\n",
      "  7          10 LOAD_FAST                0 (name)\n",
      "             12 YIELD_VALUE\n",
      "             14 POP_TOP\n",
      "\n",
      "  8          16 LOAD_CONST               3 (3)\n",
      "             18 RETURN_VALUE\n"
     ]
    }
   ],
   "source": [
    "gen = generation_function()\n",
    "dis.dis(gen)"
   ]
  },
  {
   "cell_type": "code",
   "execution_count": 24,
   "metadata": {},
   "outputs": [
    {
     "name": "stdout",
     "output_type": "stream",
     "text": [
      "-1\n",
      "{}\n"
     ]
    }
   ],
   "source": [
    "\"\"\"\n",
    "生成器对象 gen 还没有执行的时候\n",
    "f_lasti 等于 -1\n",
    "f_locals 是空字典\n",
    "\"\"\"\n",
    "print(gen.gi_frame.f_lasti)\n",
    "print(gen.gi_frame.f_locals)"
   ]
  },
  {
   "cell_type": "code",
   "execution_count": 25,
   "metadata": {},
   "outputs": [
    {
     "name": "stdout",
     "output_type": "stream",
     "text": [
      "1\n",
      "6\n",
      "{'name': 'lijh'}\n"
     ]
    }
   ],
   "source": [
    "\"\"\"\n",
    "调用一次 next 函数\n",
    "这时候 f_lasti 指向了 6 YIELD_VALUE\n",
    "实际就是 yield 1 的 Python 代码\n",
    "\n",
    "这样一来：就知道了对于一个函数执行的暂停和执行的理论基础\n",
    "通过这个例子可以知道一个函数运行到了哪里， 在下一次可以继续运行\n",
    "\n",
    "而且生成器函数返回的是一个 生成器对象\n",
    "每个被函数返回的生成器对象都有一个 PyGenObjecet 的实例\n",
    "所以每个生成器对象之间相互隔离，各自都有自己的指向函数代码的指针\n",
    "以及各自都保存了独立的运行的上下文环境\n",
    "\n",
    "生成器对象 也是存储在 堆内存中的\n",
    "\"\"\"\n",
    "print(next(gen))\n",
    "print(gen.gi_frame.f_lasti)\n",
    "print(gen.gi_frame.f_locals)"
   ]
  },
  {
   "cell_type": "code",
   "execution_count": 26,
   "metadata": {},
   "outputs": [
    {
     "name": "stdout",
     "output_type": "stream",
     "text": [
      "lijh\n",
      "12\n",
      "{'name': 'lijh'}\n"
     ]
    }
   ],
   "source": [
    "print(next(gen))\n",
    "print(gen.gi_frame.f_lasti)\n",
    "print(gen.gi_frame.f_locals)"
   ]
  }
 ],
 "metadata": {
  "kernelspec": {
   "display_name": "Python 3.9.7 ('base')",
   "language": "python",
   "name": "python3"
  },
  "language_info": {
   "codemirror_mode": {
    "name": "ipython",
    "version": 3
   },
   "file_extension": ".py",
   "mimetype": "text/x-python",
   "name": "python",
   "nbconvert_exporter": "python",
   "pygments_lexer": "ipython3",
   "version": "3.9.7"
  },
  "orig_nbformat": 4,
  "vscode": {
   "interpreter": {
    "hash": "5ec60190fd82d19059a2c75283b4d0c60a6036d5032fb7c4db6e5c318b4fdfbb"
   }
  }
 },
 "nbformat": 4,
 "nbformat_minor": 2
}
