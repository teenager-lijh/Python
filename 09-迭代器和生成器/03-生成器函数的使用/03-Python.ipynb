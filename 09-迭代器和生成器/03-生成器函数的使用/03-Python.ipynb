{
 "cells": [
  {
   "cell_type": "code",
   "execution_count": 10,
   "metadata": {},
   "outputs": [
    {
     "name": "stdout",
     "output_type": "stream",
     "text": [
      "<generator object generation_function at 0x000001F7C6C724A0>\n",
      "<function generation_function at 0x000001F7C505FE50>\n",
      "1\n",
      "2\n",
      "------------------\n",
      "3\n",
      "------------------\n",
      "1\n",
      "2\n",
      "3\n"
     ]
    }
   ],
   "source": [
    "\"\"\"\n",
    "生成器函数的使用\n",
    "\n",
    "生成器对象: Python 编译生成字节码的时候就产生了\n",
    "生成器对象实现了 __iter__ 即迭代协议， 所以可以使用 for 来遍历\n",
    "\n",
    "只要存在了关键词 yield \n",
    "它就不再是一个普通的函数了\n",
    "生成器函数返回的是:生成器对象\n",
    "\"\"\"\n",
    "\n",
    "def generation_function():\n",
    "    yield 1\n",
    "    yield 2\n",
    "    yield 3\n",
    "    \n",
    "res = generation_function()\n",
    "result = generation_function()\n",
    "print(res)\n",
    "print(generation_function)\n",
    "print(next(res))\n",
    "print(next(res))\n",
    "print('------------------')\n",
    "for item in res:\n",
    "    print(item)\n",
    "print('------------------')\n",
    "\"\"\"\n",
    "这个例子说明了，生成器函数可以产生多个 生成器对象\n",
    "产生的每个生成器对象之间都是相互独立的\n",
    "\"\"\"\n",
    "for item in result:\n",
    "    print(item)"
   ]
  },
  {
   "cell_type": "code",
   "execution_count": 1,
   "metadata": {},
   "outputs": [
    {
     "name": "stdout",
     "output_type": "stream",
     "text": [
      "0\n",
      "1\n",
      "1\n",
      "2\n",
      "3\n",
      "5\n"
     ]
    }
   ],
   "source": [
    "\"\"\"\n",
    "生成器函数在斐波那契数列的简单应用\n",
    "希望返回斐波那契的全部计算过程\n",
    "    1. 返回一个列表\n",
    "    2. 返回一个生成器对象 ==> 惰性求值\n",
    "\"\"\"\n",
    "\n",
    "# 方法 2 的实现\n",
    "def fib(n):\n",
    "    a, b, index = 0, 1, 2\n",
    "    yield a\n",
    "    yield b\n",
    "    while index <= n:\n",
    "        yield a+b\n",
    "        a, b = b, a+b\n",
    "        index += 1\n",
    "        \n",
    "for each in fib(5):\n",
    "    print(each)"
   ]
  }
 ],
 "metadata": {
  "kernelspec": {
   "display_name": "Python 3.9.7 64-bit",
   "language": "python",
   "name": "python3"
  },
  "language_info": {
   "codemirror_mode": {
    "name": "ipython",
    "version": 3
   },
   "file_extension": ".py",
   "mimetype": "text/x-python",
   "name": "python",
   "nbconvert_exporter": "python",
   "pygments_lexer": "ipython3",
   "version": "3.9.7"
  },
  "orig_nbformat": 4,
  "vscode": {
   "interpreter": {
    "hash": "d44cc55657d798daf39fa7a9d516e6a567cb30c39d60bbb6731268ec9bd46351"
   }
  }
 },
 "nbformat": 4,
 "nbformat_minor": 2
}
