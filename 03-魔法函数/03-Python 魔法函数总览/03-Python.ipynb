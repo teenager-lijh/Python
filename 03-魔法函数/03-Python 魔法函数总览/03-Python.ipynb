{
 "cells": [
  {
   "cell_type": "code",
   "execution_count": 11,
   "metadata": {},
   "outputs": [],
   "source": [
    "\"\"\"\n",
    "__str__ 函数\n",
    "__repr__ 函数\n",
    "两个函数的定义以及使用方法\n",
    "\"\"\"\n",
    "class Company:\n",
    "    def __init__(self, employee_list):\n",
    "        self.employee = employee_list\n",
    "        \n",
    "    def __str__(self):\n",
    "        return \",\".join(self.employee)"
   ]
  },
  {
   "cell_type": "code",
   "execution_count": 12,
   "metadata": {},
   "outputs": [],
   "source": [
    "company = Company(['lijh', 'liuyubobobo', 'helloworld'])"
   ]
  },
  {
   "cell_type": "code",
   "execution_count": 13,
   "metadata": {},
   "outputs": [
    {
     "data": {
      "text/plain": [
       "<__main__.Company at 0x18bea9bc9d0>"
      ]
     },
     "execution_count": 13,
     "metadata": {},
     "output_type": "execute_result"
    }
   ],
   "source": [
    "company  # 没有实现 __repr__ 函数的时候，不能以字符串形式显示"
   ]
  },
  {
   "cell_type": "code",
   "execution_count": 14,
   "metadata": {},
   "outputs": [
    {
     "data": {
      "text/plain": [
       "'lijh,liuyubobobo,helloworld'"
      ]
     },
     "execution_count": 14,
     "metadata": {},
     "output_type": "execute_result"
    }
   ],
   "source": [
    "str(company)  # 但是可以用 str 调用 __str__ 函数"
   ]
  },
  {
   "cell_type": "code",
   "execution_count": 15,
   "metadata": {},
   "outputs": [
    {
     "data": {
      "text/plain": [
       "lijh,liuyubobobo,helloworld"
      ]
     },
     "execution_count": 15,
     "metadata": {},
     "output_type": "execute_result"
    }
   ],
   "source": [
    "class Company:\n",
    "    def __init__(self, employee_list):\n",
    "        self.employee = employee_list\n",
    "        \n",
    "    def __str__(self):\n",
    "        return \",\".join(self.employee)\n",
    "    \n",
    "    def __repr__(self):\n",
    "        return \",\".join(self.employee)\n",
    "    \n",
    "    \n",
    "    \n",
    "company = Company(['lijh', 'liuyubobobo', 'helloworld'])\n",
    "company  # 这时候可以用字符串的形式显示对象了, 开发人员才会用到 __repr__"
   ]
  }
 ],
 "metadata": {
  "kernelspec": {
   "display_name": "Python 3.9.7 ('base')",
   "language": "python",
   "name": "python3"
  },
  "language_info": {
   "codemirror_mode": {
    "name": "ipython",
    "version": 3
   },
   "file_extension": ".py",
   "mimetype": "text/x-python",
   "name": "python",
   "nbconvert_exporter": "python",
   "pygments_lexer": "ipython3",
   "version": "3.9.7"
  },
  "orig_nbformat": 4,
  "vscode": {
   "interpreter": {
    "hash": "5ec60190fd82d19059a2c75283b4d0c60a6036d5032fb7c4db6e5c318b4fdfbb"
   }
  }
 },
 "nbformat": 4,
 "nbformat_minor": 2
}
