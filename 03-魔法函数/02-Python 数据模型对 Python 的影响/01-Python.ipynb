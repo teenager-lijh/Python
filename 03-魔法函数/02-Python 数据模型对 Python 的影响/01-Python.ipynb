{
 "cells": [
  {
   "cell_type": "code",
   "execution_count": 38,
   "metadata": {},
   "outputs": [],
   "source": [
    "class Company(object):\n",
    "    def __init__(self, employee_list):\n",
    "        self.employee = employee_list\n",
    "        \n",
    "    def __getitem__(self, item):\n",
    "        \"\"\"\n",
    "        函数会尝试把下标 自动传入 item 参数\n",
    "        然后不停地尝试，直到抛出异常为止\n",
    "        \n",
    "        如果不适用这个魔法函数，这时候用 for\n",
    "        循环来遍历这个函数的话，会抛出不可迭代的\n",
    "        异常，若使用该魔法函数，它就是一个可迭代的类型\n",
    "        \n",
    "        实现 __getitem__ 函数不代表它拥有了迭代器\n",
    "        实现 __iter__ 函数，才能让其拥有迭代器，\n",
    "        若拿不到迭代器，那么解释器会退化去使用 __getitem__ 函数\n",
    "        \"\"\"\n",
    "        return self.employee[item]\n",
    "    \n",
    "    def __len__(self):\n",
    "        \"\"\"\n",
    "        实现 __len__ 函数\n",
    "        可以使用 len 内置函数计算 Company 的实例对象的长度\n",
    "        \"\"\"\n",
    "        return len(self.employee)"
   ]
  },
  {
   "cell_type": "code",
   "execution_count": 39,
   "metadata": {},
   "outputs": [],
   "source": [
    "company = Company(['lijh', 'wangjierong', 'hello'])"
   ]
  },
  {
   "cell_type": "code",
   "execution_count": 40,
   "metadata": {},
   "outputs": [
    {
     "name": "stdout",
     "output_type": "stream",
     "text": [
      "lijh\n",
      "wangjierong\n",
      "hello\n"
     ]
    }
   ],
   "source": [
    "for person in company:\n",
    "    print(person)"
   ]
  },
  {
   "cell_type": "code",
   "execution_count": 41,
   "metadata": {},
   "outputs": [
    {
     "name": "stdout",
     "output_type": "stream",
     "text": [
      "<class 'list'>\n"
     ]
    }
   ],
   "source": [
    "    \"\"\"\n",
    "    实现了 __getitem__ 函数后\n",
    "    Company 也变成了一个序列类型\n",
    "    可以使用切片的方法对它操作\n",
    "    \"\"\"\n",
    "company_test = company[:2]\n",
    "print(type(company_test)) # 如何在 company 对象切片后还是 company 对象呢"
   ]
  },
  {
   "cell_type": "code",
   "execution_count": 42,
   "metadata": {},
   "outputs": [
    {
     "name": "stdout",
     "output_type": "stream",
     "text": [
      "lijh\n",
      "wangjierong\n"
     ]
    }
   ],
   "source": [
    "for item in company_test:\n",
    "    print(item)"
   ]
  },
  {
   "cell_type": "code",
   "execution_count": 43,
   "metadata": {},
   "outputs": [
    {
     "data": {
      "text/plain": [
       "3"
      ]
     },
     "execution_count": 43,
     "metadata": {},
     "output_type": "execute_result"
    }
   ],
   "source": [
    "len(company)"
   ]
  },
  {
   "cell_type": "code",
   "execution_count": null,
   "metadata": {},
   "outputs": [],
   "source": []
  }
 ],
 "metadata": {
  "kernelspec": {
   "display_name": "Python 3.9.7 ('base')",
   "language": "python",
   "name": "python3"
  },
  "language_info": {
   "codemirror_mode": {
    "name": "ipython",
    "version": 3
   },
   "file_extension": ".py",
   "mimetype": "text/x-python",
   "name": "python",
   "nbconvert_exporter": "python",
   "pygments_lexer": "ipython3",
   "version": "3.9.7"
  },
  "orig_nbformat": 4,
  "vscode": {
   "interpreter": {
    "hash": "5ec60190fd82d19059a2c75283b4d0c60a6036d5032fb7c4db6e5c318b4fdfbb"
   }
  }
 },
 "nbformat": 4,
 "nbformat_minor": 2
}
