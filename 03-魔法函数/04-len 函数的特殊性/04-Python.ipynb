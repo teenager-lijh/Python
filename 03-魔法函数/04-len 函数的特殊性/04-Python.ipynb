{
 "cells": [
  {
   "cell_type": "code",
   "execution_count": null,
   "metadata": {},
   "outputs": [],
   "source": [
    "\"\"\"\n",
    "__len__ 方法并不简单\n",
    "原生的 list, dict 都在 CPython 中\n",
    "Python 会直接去读取 CPython 中存储的值\n",
    "而不是去遍历一遍\n",
    "\"\"\""
   ]
  }
 ],
 "metadata": {
  "language_info": {
   "name": "python"
  },
  "orig_nbformat": 4
 },
 "nbformat": 4,
 "nbformat_minor": 2
}
